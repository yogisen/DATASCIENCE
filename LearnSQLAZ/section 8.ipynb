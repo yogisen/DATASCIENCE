{
 "cells": [
  {
   "cell_type": "code",
   "execution_count": 7,
   "metadata": {},
   "outputs": [],
   "source": [
    "import sqlite3\n",
    "connexion = sqlite3.connect('factbook.db')"
   ]
  },
  {
   "cell_type": "code",
   "execution_count": 12,
   "metadata": {},
   "outputs": [
    {
     "name": "stdout",
     "output_type": "stream",
     "text": [
      "[(62094928.32,)]\n"
     ]
    }
   ],
   "source": [
    "avg_pop = connexion.execute(\"select round(avg(population), 2) from facts;\").fetchall()\n",
    "print(avg_pop)\n"
   ]
  },
  {
   "cell_type": "code",
   "execution_count": 20,
   "metadata": {},
   "outputs": [],
   "source": [
    "avg_pop_growth = connexion.execute(\"select round(avg(population_growth), 2)from facts;\").fetchall()"
   ]
  },
  {
   "cell_type": "code",
   "execution_count": 21,
   "metadata": {},
   "outputs": [],
   "source": [
    "avg_birth_rate = connexion.execute(\"select round(avg(birth_rate), 2) from facts;\").fetchall()\n",
    "avg_death_rate = connexion.execute(\"select round(avg(death_rate),2) from facts;\").fetchall()"
   ]
  },
  {
   "cell_type": "code",
   "execution_count": 25,
   "metadata": {},
   "outputs": [
    {
     "name": "stdout",
     "output_type": "stream",
     "text": [
      "[(19.33,)]\n",
      "[(7.82,)]\n",
      "[(62094928.32,)]\n"
     ]
    }
   ],
   "source": [
    "print(avg_birth_rate)\n",
    "print(avg_death_rate)\n",
    "print(avg_pop)"
   ]
  },
  {
   "cell_type": "code",
   "execution_count": 23,
   "metadata": {},
   "outputs": [],
   "source": [
    "average = connexion.execute(\"select round(avg(population), 2), round(avg(population_growth), 2), round(avg(birth_rate), 2), round(avg(death_rate),2) from facts;\").fetchall()"
   ]
  },
  {
   "cell_type": "code",
   "execution_count": 26,
   "metadata": {},
   "outputs": [
    {
     "name": "stdout",
     "output_type": "stream",
     "text": [
      "[(62094928.32, 1.2, 19.33, 7.82)]\n",
      "62094928.32\n"
     ]
    }
   ],
   "source": [
    "print(average)\n",
    "pop_avg = average[0][0]\n",
    "print(pop_avg)"
   ]
  },
  {
   "cell_type": "markdown",
   "metadata": {},
   "source": [
    "## trouver les valeurs extremes"
   ]
  },
  {
   "cell_type": "code",
   "execution_count": 46,
   "metadata": {},
   "outputs": [],
   "source": [
    "minimuns = \"select min\t(population), min(population_growth), min (birth_rate), min(death_rate)from facts;\"\n",
    "maximuns = \"select max\t(population), max(population_growth), max (birth_rate), max(death_rate)from facts;\""
   ]
  },
  {
   "cell_type": "code",
   "execution_count": 47,
   "metadata": {},
   "outputs": [],
   "source": [
    "min_resultat=connexion.execute(minimuns).fetchall()\n"
   ]
  },
  {
   "cell_type": "code",
   "execution_count": 45,
   "metadata": {},
   "outputs": [],
   "source": [
    "max_resultat=connexion.execute(maximuns).fetchall()"
   ]
  },
  {
   "cell_type": "code",
   "execution_count": 41,
   "metadata": {},
   "outputs": [
    {
     "name": "stdout",
     "output_type": "stream",
     "text": [
      "0\n",
      "7256490011\n"
     ]
    }
   ],
   "source": [
    "pop_min=min_resultat[0][0]\n",
    "pop_max=max_resultat[0][0]\n",
    "print(pop_min)\n",
    "print(pop_max)"
   ]
  },
  {
   "cell_type": "code",
   "execution_count": 42,
   "metadata": {},
   "outputs": [
    {
     "name": "stdout",
     "output_type": "stream",
     "text": [
      "[(0, 0.0, 6.65, 1.53)]\n",
      "[(7256490011, 4.02, 45.45, 14.89)]\n"
     ]
    }
   ],
   "source": [
    "print(min_resultat)\n",
    "print(max_resultat)"
   ]
  },
  {
   "cell_type": "markdown",
   "metadata": {},
   "source": [
    "### filtrer\n"
   ]
  },
  {
   "cell_type": "code",
   "execution_count": 59,
   "metadata": {},
   "outputs": [],
   "source": [
    "min_and_max = \"select min\t(population),max(population), min(population_growth), max(population_growth),min (birth_rate),max(birth_rate), min(death_rate), max(death_rate)from facts where population>0 and population<2000000000;\""
   ]
  },
  {
   "cell_type": "code",
   "execution_count": 60,
   "metadata": {},
   "outputs": [],
   "source": [
    "resultats = connexion.execute(min_and_max).fetchall()"
   ]
  },
  {
   "cell_type": "code",
   "execution_count": 61,
   "metadata": {},
   "outputs": [
    {
     "name": "stdout",
     "output_type": "stream",
     "text": [
      "[(48, 1367485388, 0.0, 4.02, 6.65, 45.45, 1.53, 14.89)]\n"
     ]
    }
   ],
   "source": [
    "print(resultats)"
   ]
  },
  {
   "cell_type": "markdown",
   "metadata": {},
   "source": [
    "### predire la future croissance demographique\n"
   ]
  },
  {
   "cell_type": "code",
   "execution_count": 62,
   "metadata": {},
   "outputs": [],
   "source": [
    "pop2019 = \"select name,population,population *round((population_growth/100 +1),1)as popnext, population_growth from facts where population !='null' or population_growth !='null' ;\""
   ]
  },
  {
   "cell_type": "code",
   "execution_count": 63,
   "metadata": {},
   "outputs": [],
   "source": [
    "p19 = connexion.execute(pop2019).fetchall()"
   ]
  },
  {
   "cell_type": "code",
   "execution_count": 64,
   "metadata": {},
   "outputs": [
    {
     "name": "stdout",
     "output_type": "stream",
     "text": [
      "[('Afghanistan', 32564342, 32564342.0, 2.32), ('Albania', 3029278, 3029278.0, 0.3), ('Algeria', 39542166, 39542166.0, 1.84), ('Andorra', 85580, 85580.0, 0.12), ('Angola', 19625353, 19625353.0, 2.78), ('Antigua and Barbuda', 92436, 92436.0, 1.24), ('Argentina', 43431886, 43431886.0, 0.93), ('Armenia', 3056382, 3056382.0, 0.15), ('Australia', 22751014, 22751014.0, 1.07), ('Austria', 8665550, 8665550.0, 0.55), ('Azerbaijan', 9780780, 9780780.0, 0.96), ('Bahamas, The', 324597, 324597.0, 0.85), ('Bahrain', 1346613, 1346613.0, 2.41), ('Bangladesh', 168957745, 168957745.0, 1.6), ('Barbados', 290604, 290604.0, 0.31), ('Belarus', 9589689, 9589689.0, 0.2), ('Belgium', 11323973, 11323973.0, 0.76), ('Belize', 347369, 347369.0, 1.87), ('Benin', 10448647, 10448647.0, 2.78), ('Bhutan', 741919, 741919.0, 1.11), ('Bolivia', 10800882, 10800882.0, 1.56), ('Bosnia and Herzegovina', 3867055, 3867055.0, 0.13), ('Botswana', 2182719, 2182719.0, 1.21), ('Brazil', 204259812, 204259812.0, 0.77), ('Brunei', 429646, 429646.0, 1.62), ('Bulgaria', 7186893, 7186893.0, 0.58), ('Burkina Faso', 18931686, 18931686.0, 3.03), ('Burma', 56320206, 56320206.0, 1.01), ('Burundi', 10742276, 10742276.0, 3.28), ('Cambodia', 15708756, 15708756.0, 1.58), ('Cameroon', 23739218, 23739218.0, 2.59), ('Canada', 35099836, 35099836.0, 0.75), ('Cabo Verde', 545993, 545993.0, 1.36), ('Central African Republic', 5391539, 5391539.0, 2.13), ('Chad', 11631456, 11631456.0, 1.89), ('Chile', 17508260, 17508260.0, 0.82), ('China', 1367485388, 1367485388.0, 0.45), ('Colombia', 46736728, 46736728.0, 1.04), ('Comoros', 780971, 780971.0, 1.77), ('Congo, Democratic Republic of the', 79375136, 79375136.0, 2.45), ('Congo, Republic of the', 4755097, 4755097.0, 2.0), ('Costa Rica', 4814144, 4814144.0, 1.22), (\"Cote d'Ivoire\", 23295302, 23295302.0, 1.91), ('Croatia', 4464844, 4464844.0, 0.13), ('Cuba', 11031433, 11031433.0, 0.15), ('Cyprus', 1189197, 1189197.0, 1.43), ('Czech Republic', 10644842, 10644842.0, 0.16), ('Denmark', 5581503, 5581503.0, 0.22), ('Djibouti', 828324, 828324.0, 2.2), ('Dominica', 73607, 73607.0, 0.21), ('Dominican Republic', 10478756, 10478756.0, 1.23), ('Ecuador', 15868396, 15868396.0, 1.35), ('Egypt', 88487396, 88487396.0, 1.79), ('El Salvador', 6141350, 6141350.0, 0.25), ('Equatorial Guinea', 740743, 740743.0, 2.51), ('Eritrea', 6527689, 6527689.0, 2.25), ('Estonia', 1265420, 1265420.0, 0.55), ('Ethiopia', 99465819, 99465819.0, 2.89), ('Fiji', 909389, 909389.0, 0.67), ('Finland', 5476922, 5476922.0, 0.4), ('France', 66553766, 66553766.0, 0.43), ('Gabon', 1705336, 1705336.0, 1.93), ('Gambia, The', 1967709, 1967709.0, 2.16), ('Georgia', 4931226, 4931226.0, 0.08), ('Germany', 80854408, 80854408.0, 0.17), ('Ghana', 26327649, 26327649.0, 2.18), ('Greece', 10775643, 10775643.0, 0.01), ('Grenada', 110694, 110694.0, 0.48), ('Guatemala', 14918999, 14918999.0, 1.82), ('Guinea', 11780162, 11780162.0, 2.63), ('Guinea-Bissau', 1726170, 1726170.0, 1.91), ('Guyana', 735222, 735222.0, 0.02), ('Haiti', 10110019, 10110019.0, 1.17), ('Honduras', 8746673, 8746673.0, 1.68), ('Hungary', 9897541, 9897541.0, 0.22), ('Iceland', 331918, 331918.0, 1.21), ('India', 1251695584, 1251695584.0, 1.22), ('Indonesia', 255993674, 255993674.0, 0.92), ('Iran', 81824270, 81824270.0, 1.2), ('Iraq', 37056169, 37056169.0, 2.93), ('Ireland', 4892305, 4892305.0, 1.25), ('Israel', 8049314, 8049314.0, 1.56), ('Italy', 61855120, 61855120.0, 0.27), ('Jamaica', 2950210, 2950210.0, 0.68), ('Japan', 126919659, 126919659.0, 0.16), ('Jordan', 8117564, 8117564.0, 0.83), ('Kazakhstan', 18157122, 18157122.0, 1.14), ('Kenya', 45925301, 45925301.0, 1.93), ('Kiribati', 105711, 105711.0, 1.15), ('Korea, North', 24983205, 24983205.0, 0.53), ('Korea, South', 49115196, 49115196.0, 0.14), ('Kosovo', 1870981, None, None), ('Kuwait', 2788534, 2788534.0, 1.62), ('Kyrgyzstan', 5664939, 5664939.0, 1.11), ('Laos', 6911544, 6911544.0, 1.55), ('Latvia', 1986705, 1986705.0, 1.06), ('Lebanon', 6184701, 6184701.0, 0.86), ('Lesotho', 1947701, 1947701.0, 0.32), ('Liberia', 4195666, 4195666.0, 2.47), ('Libya', 6411776, 6411776.0, 2.23), ('Liechtenstein', 37624, 37624.0, 0.84), ('Lithuania', 2884433, 2884433.0, 1.04), ('Luxembourg', 570252, 570252.0, 2.13), ('Macedonia', 2096015, 2096015.0, 0.2), ('Madagascar', 23812681, 23812681.0, 2.58), ('Malawi', 17964697, 17964697.0, 3.32), ('Malaysia', 30513848, 30513848.0, 1.44), ('Maldives', 393253, 393253.0, 0.08), ('Mali', 16955536, 16955536.0, 2.98), ('Malta', 413965, 413965.0, 0.31), ('Marshall Islands', 72191, 72191.0, 1.66), ('Mauritania', 3596702, 3596702.0, 2.23), ('Mauritius', 1339827, 1339827.0, 0.64), ('Mexico', 121736809, 121736809.0, 1.18), ('Micronesia, Federated States of', 105216, 105216.0, 0.46), ('Moldova', 3546847, 3546847.0, 1.03), ('Monaco', 30535, 30535.0, 0.12), ('Mongolia', 2992908, 2992908.0, 1.31), ('Montenegro', 647073, 647073.0, 0.42), ('Morocco', 33322699, 33322699.0, 1.0), ('Mozambique', 25303113, 25303113.0, 2.45), ('Namibia', 2212307, 2212307.0, 0.59), ('Nauru', 9540, 9540.0, 0.55), ('Nepal', 31551305, 31551305.0, 1.79), ('Netherlands', 16947904, 16947904.0, 0.41), ('New Zealand', 4438393, 4438393.0, 0.82), ('Nicaragua', 5907881, 5907881.0, 1.0), ('Niger', 18045729, 18045729.0, 3.25), ('Nigeria', 181562056, 181562056.0, 2.45), ('Norway', 5207689, 5207689.0, 1.13), ('Oman', 3286936, 3286936.0, 2.07), ('Pakistan', 199085847, 199085847.0, 1.46), ('Palau', 21265, 21265.0, 0.38), ('Panama', 3657024, 3657024.0, 1.32), ('Papua New Guinea', 6672429, 6672429.0, 1.78), ('Paraguay', 6783272, 6783272.0, 1.16), ('Peru', 30444999, 30444999.0, 0.97), ('Philippines', 100998376, 100998376.0, 1.61), ('Poland', 38562189, 38562189.0, 0.09), ('Portugal', 10825309, 10825309.0, 0.09), ('Qatar', 2194817, 2194817.0, 3.07), ('Romania', 21666350, 21666350.0, 0.3), ('Russia', 142423773, 142423773.0, 0.04), ('Rwanda', 12661733, 12661733.0, 2.56), ('Saint Kitts and Nevis', 51936, 51936.0, 0.76), ('Saint Lucia', 163922, 163922.0, 0.34), ('Saint Vincent and the Grenadines', 102627, 102627.0, 0.28), ('Samoa', 197773, 197773.0, 0.58), ('San Marino', 33020, 33020.0, 0.82), ('Sao Tome and Principe', 194006, 194006.0, 1.84), ('Saudi Arabia', 27752316, 27752316.0, 1.46), ('Senegal', 13975834, 13975834.0, 2.45), ('Serbia', 7176794, 7176794.0, 0.46), ('Seychelles', 92430, 92430.0, 0.83), ('Sierra Leone', 5879098, 5879098.0, 2.35), ('Singapore', 5674472, 5674472.0, 1.89), ('Slovakia', 5445027, 5445027.0, 0.02), ('Slovenia', 1983412, 1983412.0, 0.26), ('Solomon Islands', 622469, 622469.0, 2.02), ('Somalia', 10616380, 10616380.0, 1.83), ('South Africa', 53675563, 53675563.0, 1.33), ('South Sudan', 12042910, 12042910.0, 4.02), ('Spain', 48146134, 48146134.0, 0.89), ('Sri Lanka', 22053488, 22053488.0, 0.84), ('Sudan', 36108853, 36108853.0, 1.72), ('Suriname', 579633, 579633.0, 1.08), ('Swaziland', 1435613, 1435613.0, 1.11), ('Sweden', 9801616, 9801616.0, 0.8), ('Switzerland', 8121830, 8121830.0, 0.71), ('Syria', 17064854, 17064854.0, 0.16), ('Tajikistan', 8191958, 8191958.0, 1.71), ('Tanzania', 51045882, 51045882.0, 2.79), ('Thailand', 67976405, 67976405.0, 0.34), ('Timor-Leste', 1231116, 1231116.0, 2.42), ('Togo', 7552318, 7552318.0, 2.69), ('Tonga', 106501, 106501.0, 0.03), ('Trinidad and Tobago', 1222363, 1222363.0, 0.13), ('Tunisia', 11037225, 11037225.0, 0.89), ('Turkey', 79414269, 79414269.0, 1.26), ('Turkmenistan', 5231422, 5231422.0, 1.14), ('Tuvalu', 10869, 10869.0, 0.82), ('Uganda', 37101745, 37101745.0, 3.24), ('Ukraine', 44429471, 44429471.0, 0.6), ('United Arab Emirates', 5779760, 5779760.0, 2.58), ('United Kingdom', 64088222, 64088222.0, 0.54), ('United States', 321368864, 321368864.0, 0.78), ('Uruguay', 3341893, 3341893.0, 0.27), ('Uzbekistan', 29199942, 29199942.0, 0.93), ('Vanuatu', 272264, 272264.0, 1.95), ('Holy See (Vatican City)', 842, 842.0, 0.0), ('Venezuela', 29275460, 29275460.0, 1.39), ('Vietnam', 94348835, 94348835.0, 0.97), ('Yemen', 26737317, 26737317.0, 2.47), ('Zambia', 15066266, 15066266.0, 2.88), ('Zimbabwe', 14229541, 14229541.0, 2.21), ('Taiwan', 23415126, 23415126.0, 0.23), ('European Union', 513949445, 513949445.0, 0.25), ('Christmas Island', 1530, 1530.0, 1.11), ('Cocos (Keeling) Islands', 596, 596.0, 0.0), ('Norfolk Island', 2210, 2210.0, 0.01), ('Hong Kong', 7141106, 7141106.0, 0.38), ('Macau', 592731, 592731.0, 0.8), ('Faroe Islands', 50196, 50196.0, 0.51), ('Greenland', 57733, 57733.0, 0.0), ('French Polynesia', 282703, 282703.0, 0.94), ('New Caledonia', 271615, 271615.0, 1.38), ('Saint Barthelemy', 7237, None, None), ('Saint Martin', 31754, None, None), ('Saint Pierre and Miquelon', 5657, 5657.0, 1.08), ('Wallis and Futuna', 15613, 15613.0, 0.33), ('Aruba', 112162, 112162.0, 1.33), ('Curacao', 148406, 148406.0, 0.43), ('Sint Maarten', 39689, 39689.0, 1.51), ('Cook Islands', 9838, 9838.0, 2.95), ('Niue', 1190, 1190.0, 0.03), ('Tokelau', 1337, 1337.0, 0.01), ('Svalbard', 1872, 1872.0, 0.03), ('Akrotiri', 15700, None, None), ('Anguilla', 16418, 16418.0, 2.03), ('Bermuda', 70196, 70196.0, 0.5), ('British Virgin Islands', 33454, 33454.0, 2.32), ('Cayman Islands', 56092, 56092.0, 2.1), ('Dhekelia', 15700, None, None), ('Falkland Islands (Islas Malvinas)', 3361, 3361.0, 0.01), ('Gibraltar', 29258, 29258.0, 0.24), ('Guernsey', 66080, 66080.0, 0.34), ('Jersey', 97294, 97294.0, 0.8), ('Isle of Man', 87545, 87545.0, 0.76), ('Montserrat', 5241, 5241.0, 0.5), ('Pitcairn Islands', 48, 48.0, 0.0), ('Saint Helena, Ascension, and Tristan da Cunha', 7795, 7795.0, 0.24), ('Turks and Caicos Islands', 50280, 50280.0, 2.3), ('American Samoa', 54343, 54343.0, 0.3), ('Guam', 161785, 161785.0, 0.54), ('Northern Mariana Islands', 52344, 52344.0, 2.18), ('Puerto Rico', 3598357, 3598357.0, 0.6), ('Virgin Islands', 103574, 103574.0, 0.59), ('Antarctica', 0, None, None), ('Gaza Strip', 1869055, 1869055.0, 2.81), ('West Bank', 2785366, 2785366.0, 1.95), ('Western Sahara', 570866, 570866.0, 2.82), ('World', 7256490011, 7256490011.0, 1.08)]\n"
     ]
    }
   ],
   "source": [
    "print(p19)"
   ]
  },
  {
   "cell_type": "code",
   "execution_count": 69,
   "metadata": {},
   "outputs": [],
   "source": [
    "projected_pop_query=\"select round(population + population * (population_growth/100), 0)from facts where population >0 and population < 700000000 and population IS NOT NULL and population_growth is not null;\""
   ]
  },
  {
   "cell_type": "code",
   "execution_count": 72,
   "metadata": {},
   "outputs": [],
   "source": [
    "projected = connexion.execute(projected_pop_query).fetchall()"
   ]
  },
  {
   "cell_type": "code",
   "execution_count": 75,
   "metadata": {},
   "outputs": [
    {
     "name": "stdout",
     "output_type": "stream",
     "text": [
      "[(33319835.0,), (3038366.0,), (40269742.0,), (85683.0,), (20170938.0,), (93582.0,), (43835803.0,), (3060967.0,), (22994450.0,), (8713211.0,)]\n"
     ]
    }
   ],
   "source": [
    "print(projected[0:10])"
   ]
  },
  {
   "cell_type": "code",
   "execution_count": 76,
   "metadata": {},
   "outputs": [],
   "source": [
    "proj_pop_query =\"select min (round(population + population * (population_growth/100), 0)),max  (round(population + population * (population_growth/100), 0)), avg  (round(population + population * (population_growth/100), 0))from facts where population >0 and population < 700000000 and population IS NOT NULL and population_growth is not null\""
   ]
  },
  {
   "cell_type": "code",
   "execution_count": 77,
   "metadata": {},
   "outputs": [],
   "source": [
    "pro_result = connexion.execute(proj_pop_query).fetchall()"
   ]
  },
  {
   "cell_type": "code",
   "execution_count": 78,
   "metadata": {},
   "outputs": [
    {
     "name": "stdout",
     "output_type": "stream",
     "text": [
      "[(48.0, 515234319.0, 22359141.377682403)]\n"
     ]
    }
   ],
   "source": [
    "print(pro_result)"
   ]
  },
  {
   "cell_type": "code",
   "execution_count": 79,
   "metadata": {},
   "outputs": [
    {
     "name": "stdout",
     "output_type": "stream",
     "text": [
      "estimation mini 48.0\n"
     ]
    }
   ],
   "source": [
    "proj_min= pro_result[0][0]\n",
    "print(\"estimation mini\", proj_min)"
   ]
  },
  {
   "cell_type": "code",
   "execution_count": null,
   "metadata": {},
   "outputs": [],
   "source": []
  }
 ],
 "metadata": {
  "kernelspec": {
   "display_name": "Python 3",
   "language": "python",
   "name": "python3"
  },
  "language_info": {
   "codemirror_mode": {
    "name": "ipython",
    "version": 3
   },
   "file_extension": ".py",
   "mimetype": "text/x-python",
   "name": "python",
   "nbconvert_exporter": "python",
   "pygments_lexer": "ipython3",
   "version": "3.6.5"
  }
 },
 "nbformat": 4,
 "nbformat_minor": 2
}
