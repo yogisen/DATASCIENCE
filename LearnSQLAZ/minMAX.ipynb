{
 "cells": [
  {
   "cell_type": "code",
   "execution_count": 1,
   "metadata": {},
   "outputs": [],
   "source": [
    "# trouver les ninimales et maximales d'une colonne sql\n"
   ]
  },
  {
   "cell_type": "code",
   "execution_count": 3,
   "metadata": {},
   "outputs": [],
   "source": [
    "import sqlite3\n",
    "connexion = sqlite3.connect('factbook.db')\n"
   ]
  },
  {
   "cell_type": "code",
   "execution_count": 6,
   "metadata": {},
   "outputs": [],
   "source": [
    "population_growth_tuple = connexion.execute(\"select min(population_growth), name from facts where population_growth != 0;\"\n",
    ").fetchall()"
   ]
  },
  {
   "cell_type": "code",
   "execution_count": 9,
   "metadata": {},
   "outputs": [
    {
     "name": "stdout",
     "output_type": "stream",
     "text": [
      "[(0.01, 'Greece')]\n"
     ]
    }
   ],
   "source": [
    "print(population_growth_tuple)"
   ]
  },
  {
   "cell_type": "code",
   "execution_count": 11,
   "metadata": {},
   "outputs": [
    {
     "name": "stdout",
     "output_type": "stream",
     "text": [
      "Greece\n"
     ]
    }
   ],
   "source": [
    "population_growth_nameIS = population_growth_tuple[0][1]\n",
    "print(population_growth_nameIS)"
   ]
  },
  {
   "cell_type": "code",
   "execution_count": 12,
   "metadata": {},
   "outputs": [],
   "source": [
    "death_rate_tupple = connexion.execute(\"select max(death_rate), name from facts where death_rate != 0;\").fetchall()"
   ]
  },
  {
   "cell_type": "code",
   "execution_count": 13,
   "metadata": {},
   "outputs": [
    {
     "name": "stdout",
     "output_type": "stream",
     "text": [
      "[(14.89, 'Lesotho')]\n"
     ]
    }
   ],
   "source": [
    "print(death_rate_tupple)"
   ]
  },
  {
   "cell_type": "code",
   "execution_count": 22,
   "metadata": {},
   "outputs": [],
   "source": [
    "death_rate1 = death_rate_tupple[0][0]\n",
    "death_rate2 = death_rate_tupple[0][1]"
   ]
  },
  {
   "cell_type": "code",
   "execution_count": 23,
   "metadata": {},
   "outputs": [
    {
     "name": "stdout",
     "output_type": "stream",
     "text": [
      "14.89\n"
     ]
    }
   ],
   "source": [
    "print(death_rate1)"
   ]
  },
  {
   "cell_type": "code",
   "execution_count": 24,
   "metadata": {},
   "outputs": [
    {
     "name": "stdout",
     "output_type": "stream",
     "text": [
      "Lesotho\n"
     ]
    }
   ],
   "source": [
    "print(death_rate2)"
   ]
  },
  {
   "cell_type": "markdown",
   "metadata": {},
   "source": [
    "### SUM AVG moyenne"
   ]
  },
  {
   "cell_type": "code",
   "execution_count": 26,
   "metadata": {},
   "outputs": [],
   "source": [
    "import sqlite3\n",
    "connexion = sqlite3.connect('factbook.db')\n"
   ]
  },
  {
   "cell_type": "code",
   "execution_count": 29,
   "metadata": {},
   "outputs": [],
   "source": [
    "sum_area_land_tuple = connexion.execute(\"select sum(area_land) from facts;\").fetchall()\n",
    "average_area_water_tuple= connexion.execute(\"select avg(area_water) from facts;\").fetchall()\n",
    "sum = sum_area_land_tuple[0][0]\n",
    " avg = average_area_water_tuple[0][0]"
   ]
  },
  {
   "cell_type": "code",
   "execution_count": 30,
   "metadata": {},
   "outputs": [
    {
     "name": "stdout",
     "output_type": "stream",
     "text": [
      "128584834 19067.59259259259\n"
     ]
    }
   ],
   "source": [
    "print(sum, avg)"
   ]
  },
  {
   "cell_type": "code",
   "execution_count": 32,
   "metadata": {},
   "outputs": [],
   "source": [
    "connexion.close()"
   ]
  },
  {
   "cell_type": "code",
   "execution_count": 43,
   "metadata": {},
   "outputs": [],
   "source": [
    "import sqlite3\n",
    "connexion =sqlite3.connect('factbook.db')\n"
   ]
  },
  {
   "cell_type": "code",
   "execution_count": 45,
   "metadata": {},
   "outputs": [
    {
     "name": "stdout",
     "output_type": "stream",
     "text": [
      "1.3379503105590063\n"
     ]
    }
   ],
   "source": [
    "avg_pop = connexion.execute(\"select avg(population_growth) from facts where population > 1000000\").fetchall()\n",
    "avg = avg_pop[0][0]\n",
    "print(avg)"
   ]
  },
  {
   "cell_type": "markdown",
   "metadata": {},
   "source": [
    "### selectionner des elements unique"
   ]
  },
  {
   "cell_type": "code",
   "execution_count": 6,
   "metadata": {},
   "outputs": [
    {
     "name": "stdout",
     "output_type": "stream",
     "text": [
      "[(38.57,), (12.92,)]\n"
     ]
    }
   ],
   "source": [
    "connexion = sqlite3.connect('factbook.db')\n",
    "unique_birth_rates = connexion.execute(\"select distinct birth_rate from facts;\").fetchmany(2)\n",
    "print(unique_birth_rates)"
   ]
  },
  {
   "cell_type": "markdown",
   "metadata": {},
   "source": [
    "### calcul entre colone "
   ]
  },
  {
   "cell_type": "code",
   "execution_count": 5,
   "metadata": {},
   "outputs": [
    {
     "name": "stdout",
     "output_type": "stream",
     "text": [
      "[('Afghanistan', 2.8855291576673863), ('Albania', 2.465045592705167), ('Algeria', 5.705336426914155), ('Andorra', 1.168103448275862), ('Angola', 3.4151436031331595)]\n"
     ]
    }
   ],
   "source": [
    "import sqlite3\n",
    "connexion = sqlite3.connect('factbook.db')\n",
    "growth_pop = connexion.execute(\"select name,(birth_rate + migration_rate ) / death_rate from facts ;\").fetchmany(5)\n",
    "print(growth_pop)\n"
   ]
  },
  {
   "cell_type": "code",
   "execution_count": 12,
   "metadata": {},
   "outputs": [
    {
     "name": "stdout",
     "output_type": "stream",
     "text": [
      "[('Afghanistan', 32564342, 755492.7344), ('Albania', 3029278, 9087.834), ('Algeria', 39542166, 727575.8544), ('Andorra', 85580, 102.696), ('Angola', 19625353, 545584.8134)]\n"
     ]
    }
   ],
   "source": [
    "\n",
    "next_pop = connexion.execute(\"select name,population,((population * population_growth)/100) from facts ;\").fetchmany(5)\n",
    "print(next_pop)"
   ]
  },
  {
   "cell_type": "code",
   "execution_count": 18,
   "metadata": {},
   "outputs": [],
   "source": [
    "last_query = connexion.execute(\"select name,population, population_growth,(((population * population_growth)/100)+population) from facts;\").fetchone()"
   ]
  },
  {
   "cell_type": "code",
   "execution_count": 19,
   "metadata": {},
   "outputs": [
    {
     "name": "stdout",
     "output_type": "stream",
     "text": [
      "('Afghanistan', 32564342, 2.32, 33319834.7344)\n"
     ]
    }
   ],
   "source": [
    "print(last_query)"
   ]
  },
  {
   "cell_type": "code",
   "execution_count": 16,
   "metadata": {},
   "outputs": [],
   "source": [
    "review = connexion.execute(\"select name,population,population *(population_growth/100 +1), population_growth from facts ;\").fetchone()"
   ]
  },
  {
   "cell_type": "code",
   "execution_count": 17,
   "metadata": {},
   "outputs": [
    {
     "name": "stdout",
     "output_type": "stream",
     "text": [
      "('Afghanistan', 32564342, 33319834.734400004, 2.32)\n"
     ]
    }
   ],
   "source": [
    "print(review)"
   ]
  },
  {
   "cell_type": "code",
   "execution_count": null,
   "metadata": {},
   "outputs": [],
   "source": []
  }
 ],
 "metadata": {
  "kernelspec": {
   "display_name": "Python 3",
   "language": "python",
   "name": "python3"
  },
  "language_info": {
   "codemirror_mode": {
    "name": "ipython",
    "version": 3
   },
   "file_extension": ".py",
   "mimetype": "text/x-python",
   "name": "python",
   "nbconvert_exporter": "python",
   "pygments_lexer": "ipython3",
   "version": "3.6.5"
  }
 },
 "nbformat": 4,
 "nbformat_minor": 2
}
