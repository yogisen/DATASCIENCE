{
 "cells": [
  {
   "cell_type": "code",
   "execution_count": null,
   "metadata": {},
   "outputs": [],
   "source": [
    "import psycopg2\n",
    "connexion = psycopg2.connect(dbname=\"postgres\", user=\"postgres\", password=\"password\", port=5432,)\n",
    "curseur = connexion.cursor()"
   ]
  },
  {
   "cell_type": "code",
   "execution_count": null,
   "metadata": {},
   "outputs": [],
   "source": [
    "connexion = psycopg2.connect(dbname=\"bank_accounts\", user=\"batman\", password=\"robin\")\n",
    "curseur = connexion.cursor()\n",
    "print(curseur)\n",
    "connexion.close()"
   ]
  },
  {
   "cell_type": "code",
   "execution_count": null,
   "metadata": {},
   "outputs": [],
   "source": [
    "connexion = psycopg2.connect(dbname=\"bank_accounts\", user=\"batman\", password=\"robin\")\n",
    "curseur = connexion.cursor()\n",
    "curseur.execute(\"create table notesqlshell12 (id integer primary key, text text);\")\n",
    "connexion.commit()\n",
    "connexion.close()"
   ]
  },
  {
   "cell_type": "code",
   "execution_count": null,
   "metadata": {},
   "outputs": [],
   "source": [
    "# executer des requetes sql"
   ]
  },
  {
   "cell_type": "code",
   "execution_count": null,
   "metadata": {},
   "outputs": [],
   "source": [
    "connexion = psycopg2.connect(dbname=\"bank_accounts\", user=\"batman\",password=\"robin\")\n",
    "curseur = connexion.cursor()\n",
    "curseur.execute(\"insert into notesqlshell12 values ( 1,'ceci est notre premiere note');\")\n",
    "rows = curseur.fetchall()\n",
    "print(rows)\n",
    "connexion.close()\n"
   ]
  },
  {
   "cell_type": "code",
   "execution_count": null,
   "metadata": {},
   "outputs": [],
   "source": [
    "# creer des bases de données"
   ]
  },
  {
   "cell_type": "code",
   "execution_count": null,
   "metadata": {},
   "outputs": [],
   "source": [
    "connexion = psycopg2.connect(dbname=\"bank_accounts\", user=\"batman\",password=\"robin\")\n",
    "connexion.autocommit = True\n",
    "curseur = connexion.cursor()\n",
    "curseur.execute(\"create database income owner batman;\")\n",
    "connexion.close()"
   ]
  },
  {
   "cell_type": "code",
   "execution_count": null,
   "metadata": {},
   "outputs": [],
   "source": [
    "# supprimer des bases de données"
   ]
  },
  {
   "cell_type": "code",
   "execution_count": null,
   "metadata": {
    "collapsed": true
   },
   "outputs": [],
   "source": [
    "\n",
    "connexion = psycopg2.connect(dbname=\"bank_accounts\", user=\"batman\",password=\"robin\")\n",
    "connexion.autocommit = True\n",
    "curseur = connexion.cursor()\n",
    "curseur.execute(\"drop database income;\")\n",
    "connexion.close()"
   ]
  },
  {
   "cell_type": "code",
   "execution_count": null,
   "metadata": {},
   "outputs": [],
   "source": []
  },
  {
   "cell_type": "code",
   "execution_count": null,
   "metadata": {},
   "outputs": [],
   "source": []
  },
  {
   "cell_type": "code",
   "execution_count": null,
   "metadata": {},
   "outputs": [],
   "source": []
  }
 ],
 "metadata": {
  "kernelspec": {
   "display_name": "Python 3",
   "language": "python",
   "name": "python3"
  },
  "language_info": {
   "codemirror_mode": {
    "name": "ipython",
    "version": 3
   },
   "file_extension": ".py",
   "mimetype": "text/x-python",
   "name": "python",
   "nbconvert_exporter": "python",
   "pygments_lexer": "ipython3",
   "version": "3.6.5"
  }
 },
 "nbformat": 4,
 "nbformat_minor": 2
}
