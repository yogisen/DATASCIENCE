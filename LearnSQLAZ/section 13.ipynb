{
 "cells": [
  {
   "cell_type": "markdown",
   "metadata": {},
   "source": [
    "# Rappel table"
   ]
  },
  {
   "cell_type": "code",
   "execution_count": 1,
   "metadata": {},
   "outputs": [],
   "source": [
    "import sqlite3"
   ]
  },
  {
   "cell_type": "code",
   "execution_count": 2,
   "metadata": {},
   "outputs": [],
   "source": [
    "connexion = sqlite3.connect('nominations.db')"
   ]
  },
  {
   "cell_type": "code",
   "execution_count": 3,
   "metadata": {},
   "outputs": [
    {
     "data": {
      "text/plain": [
       "[]"
      ]
     },
     "execution_count": 3,
     "metadata": {},
     "output_type": "execute_result"
    }
   ],
   "source": [
    "connexion.execute('pragma table_info(naminations)').fetchall()"
   ]
  },
  {
   "cell_type": "code",
   "execution_count": 11,
   "metadata": {},
   "outputs": [
    {
     "data": {
      "text/plain": [
       "[(0, 'Year', 'INTEGER', 0, None, 0),\n",
       " (1, 'Category', 'TEXT', 0, None, 0),\n",
       " (2, 'Nominee', 'TEXT', 0, None, 0),\n",
       " (3, 'Won', 'INTEGER', 0, None, 0),\n",
       " (4, 'Movie', 'TEXT', 0, None, 0),\n",
       " (5, 'Characters', 'TEXT', 0, None, 0)]"
      ]
     },
     "execution_count": 11,
     "metadata": {},
     "output_type": "execute_result"
    }
   ],
   "source": [
    "connexion.execute('pragma table_info(nominations)').fetchall()"
   ]
  },
  {
   "cell_type": "code",
   "execution_count": 20,
   "metadata": {},
   "outputs": [
    {
     "name": "stdout",
     "output_type": "stream",
     "text": [
      "(2010, 'Actor -- Leading Role', 'Javier Bardem', 0, 'Biutiful', 'Uxbal')\n",
      "(2010, 'Actor -- Leading Role', 'Jeff Bridges', 0, 'True Grit', 'Rooster Cogburn')\n",
      "(2010, 'Actor -- Leading Role', 'Jesse Eisenberg', 0, 'The Social Network', 'Mark Zuckerberg')\n",
      "(2010, 'Actor -- Leading Role', 'Colin Firth', 1, \"The King's Speech\", 'King George VI')\n",
      "(2010, 'Actor -- Leading Role', 'James Franco', 0, '127 Hours', 'Aron Ralston')\n",
      "(2010, 'Actor -- Supporting Role', 'Christian Bale', 1, 'The Fighter', 'Dicky Eklund')\n",
      "(2010, 'Actor -- Supporting Role', 'John Hawkes', 0, \"Winter's Bone\", 'Teardrop')\n",
      "(2010, 'Actor -- Supporting Role', 'Jeremy Renner', 0, 'The Town', 'James Coughlin')\n",
      "(2010, 'Actor -- Supporting Role', 'Mark Ruffalo', 0, 'The Kids Are All Right', 'Paul')\n",
      "(2010, 'Actor -- Supporting Role', 'Geoffrey Rush', 0, \"The King's Speech\", 'Lionel Logue')\n"
     ]
    }
   ],
   "source": [
    "for row in connexion.execute('select* from nominations limit 10;').fetchall():\n",
    "    print (row)"
   ]
  },
  {
   "cell_type": "markdown",
   "metadata": {},
   "source": [
    "## créer la table cremonies"
   ]
  },
  {
   "cell_type": "code",
   "execution_count": 21,
   "metadata": {},
   "outputs": [],
   "source": [
    "# execute.many (requestSQL, List)"
   ]
  },
  {
   "cell_type": "code",
   "execution_count": 24,
   "metadata": {},
   "outputs": [
    {
     "data": {
      "text/plain": [
       "[]"
      ]
     },
     "execution_count": 24,
     "metadata": {},
     "output_type": "execute_result"
    }
   ],
   "source": [
    "connexion.execute('create table ceremonies (id integer primary key, Year integer, Host text);').fetchall()"
   ]
  },
  {
   "cell_type": "code",
   "execution_count": 26,
   "metadata": {},
   "outputs": [
    {
     "data": {
      "text/plain": [
       "[('nominations',), ('ceremonies',)]"
      ]
     },
     "execution_count": 26,
     "metadata": {},
     "output_type": "execute_result"
    }
   ],
   "source": [
    "connexion.execute('select name from sqlite_master where type=\"table\"').fetchall()"
   ]
  },
  {
   "cell_type": "code",
   "execution_count": 29,
   "metadata": {},
   "outputs": [
    {
     "data": {
      "text/plain": [
       "[(0, 'id', 'integer', 0, None, 1),\n",
       " (1, 'Year', 'integer', 0, None, 0),\n",
       " (2, 'Host', 'text', 0, None, 0)]"
      ]
     },
     "execution_count": 29,
     "metadata": {},
     "output_type": "execute_result"
    }
   ],
   "source": [
    "connexion.execute('pragma table_info(ceremonies);').fetchall()"
   ]
  },
  {
   "cell_type": "code",
   "execution_count": 34,
   "metadata": {},
   "outputs": [],
   "source": [
    "Year_Host= [(2010, \"peter\"),\n",
    "(2011, \"Marcel\"),\n",
    "(2013, \"Jcques\")\n",
    "    \n",
    "    \n",
    "]"
   ]
  },
  {
   "cell_type": "code",
   "execution_count": 37,
   "metadata": {},
   "outputs": [],
   "source": [
    "insert_query='insert into ceremonies(Year, Host) Values (?,?);'"
   ]
  },
  {
   "cell_type": "code",
   "execution_count": 38,
   "metadata": {},
   "outputs": [
    {
     "data": {
      "text/plain": [
       "[]"
      ]
     },
     "execution_count": 38,
     "metadata": {},
     "output_type": "execute_result"
    }
   ],
   "source": [
    "connexion.executemany(insert_query, Year_Host).fetchall()"
   ]
  },
  {
   "cell_type": "code",
   "execution_count": 40,
   "metadata": {},
   "outputs": [],
   "source": [
    "connexion.commit()"
   ]
  },
  {
   "cell_type": "code",
   "execution_count": 41,
   "metadata": {},
   "outputs": [
    {
     "data": {
      "text/plain": [
       "[(1, 2010, 'peter'), (2, 2011, 'Marcel'), (3, 2013, 'Jcques')]"
      ]
     },
     "execution_count": 41,
     "metadata": {},
     "output_type": "execute_result"
    }
   ],
   "source": [
    "connexion.execute('select * from ceremonies limit 10;').fetchall()"
   ]
  },
  {
   "cell_type": "markdown",
   "metadata": {},
   "source": [
    "## contraintes de cle externe"
   ]
  },
  {
   "cell_type": "code",
   "execution_count": 42,
   "metadata": {},
   "outputs": [
    {
     "data": {
      "text/plain": [
       "[]"
      ]
     },
     "execution_count": 42,
     "metadata": {},
     "output_type": "execute_result"
    }
   ],
   "source": [
    "connexion.execute('pragma foreign_keys = on;').fetchall()\n"
   ]
  },
  {
   "cell_type": "code",
   "execution_count": 43,
   "metadata": {},
   "outputs": [
    {
     "data": {
      "text/plain": [
       "[]"
      ]
     },
     "execution_count": 43,
     "metadata": {},
     "output_type": "execute_result"
    }
   ],
   "source": [
    "connexion.execute('create table nominations_two(id integer primary key, category text, nominee text, movie text, character text, won integer, ceremmony_id integer references ceremonies(id));').fetchall()"
   ]
  },
  {
   "cell_type": "code",
   "execution_count": 44,
   "metadata": {},
   "outputs": [
    {
     "data": {
      "text/plain": [
       "[(0, 'id', 'integer', 0, None, 1),\n",
       " (1, 'category', 'text', 0, None, 0),\n",
       " (2, 'nominee', 'text', 0, None, 0),\n",
       " (3, 'movie', 'text', 0, None, 0),\n",
       " (4, 'character', 'text', 0, None, 0),\n",
       " (5, 'won', 'integer', 0, None, 0),\n",
       " (6, 'ceremmony_id', 'integer', 0, None, 0)]"
      ]
     },
     "execution_count": 44,
     "metadata": {},
     "output_type": "execute_result"
    }
   ],
   "source": [
    "connexion.execute('pragma table_info(nominations_two);').fetchall()"
   ]
  },
  {
   "cell_type": "code",
   "execution_count": 56,
   "metadata": {},
   "outputs": [],
   "source": [
    "joined_nominations_query = 'select nominations.category, nominations.nominee, nominations.movie, nominations.Characters, nominations.won, ceremonies.id from nominations inner join ceremonies on nominations.year == ceremonies.year'"
   ]
  },
  {
   "cell_type": "code",
   "execution_count": 57,
   "metadata": {},
   "outputs": [],
   "source": [
    "joined_nominations = connexion.execute(joined_nominations_query).fetchall()"
   ]
  },
  {
   "cell_type": "code",
   "execution_count": 58,
   "metadata": {},
   "outputs": [
    {
     "data": {
      "text/plain": [
       "[('Actor -- Leading Role', 'Javier Bardem', 'Biutiful', 'Uxbal', 0, 1),\n",
       " ('Actor -- Leading Role',\n",
       "  'Jeff Bridges',\n",
       "  'True Grit',\n",
       "  'Rooster Cogburn',\n",
       "  0,\n",
       "  1),\n",
       " ('Actor -- Leading Role',\n",
       "  'Jesse Eisenberg',\n",
       "  'The Social Network',\n",
       "  'Mark Zuckerberg',\n",
       "  0,\n",
       "  1),\n",
       " ('Actor -- Leading Role',\n",
       "  'Colin Firth',\n",
       "  \"The King's Speech\",\n",
       "  'King George VI',\n",
       "  1,\n",
       "  1),\n",
       " ('Actor -- Leading Role', 'James Franco', '127 Hours', 'Aron Ralston', 0, 1),\n",
       " ('Actor -- Supporting Role',\n",
       "  'Christian Bale',\n",
       "  'The Fighter',\n",
       "  'Dicky Eklund',\n",
       "  1,\n",
       "  1),\n",
       " ('Actor -- Supporting Role',\n",
       "  'John Hawkes',\n",
       "  \"Winter's Bone\",\n",
       "  'Teardrop',\n",
       "  0,\n",
       "  1),\n",
       " ('Actor -- Supporting Role',\n",
       "  'Jeremy Renner',\n",
       "  'The Town',\n",
       "  'James Coughlin',\n",
       "  0,\n",
       "  1),\n",
       " ('Actor -- Supporting Role',\n",
       "  'Mark Ruffalo',\n",
       "  'The Kids Are All Right',\n",
       "  'Paul',\n",
       "  0,\n",
       "  1),\n",
       " ('Actor -- Supporting Role',\n",
       "  'Geoffrey Rush',\n",
       "  \"The King's Speech\",\n",
       "  'Lionel Logue',\n",
       "  0,\n",
       "  1),\n",
       " ('Actress -- Leading Role',\n",
       "  'Annette Bening',\n",
       "  'The Kids Are All Right',\n",
       "  'Nic',\n",
       "  0,\n",
       "  1),\n",
       " ('Actress -- Leading Role', 'Nicole Kidman', 'Rabbit Hole', 'Becca', 0, 1),\n",
       " ('Actress -- Leading Role',\n",
       "  'Jennifer Lawrence',\n",
       "  \"Winter's Bone\",\n",
       "  'Ree',\n",
       "  0,\n",
       "  1),\n",
       " ('Actress -- Leading Role',\n",
       "  'Natalie Portman',\n",
       "  'Black Swan',\n",
       "  'Nina Sayers/The Swan Queen',\n",
       "  1,\n",
       "  1),\n",
       " ('Actress -- Leading Role',\n",
       "  'Michelle Williams',\n",
       "  'Blue Valentine',\n",
       "  'Cindy',\n",
       "  0,\n",
       "  1),\n",
       " ('Actress -- Supporting Role',\n",
       "  'Amy Adams',\n",
       "  'The Fighter',\n",
       "  'Charlene Fleming',\n",
       "  0,\n",
       "  1),\n",
       " ('Actress -- Supporting Role',\n",
       "  'Helena Bonham Carter',\n",
       "  \"The King's Speech\",\n",
       "  'Queen Elizabeth',\n",
       "  0,\n",
       "  1),\n",
       " ('Actress -- Supporting Role',\n",
       "  'Melissa Leo',\n",
       "  'The Fighter',\n",
       "  'Alice Ward',\n",
       "  1,\n",
       "  1),\n",
       " ('Actress -- Supporting Role',\n",
       "  'Hailee Steinfeld',\n",
       "  'True Grit',\n",
       "  'Mattie Ross',\n",
       "  0,\n",
       "  1),\n",
       " ('Actress -- Supporting Role',\n",
       "  'Jacki Weaver',\n",
       "  'Animal Kingdom',\n",
       "  \"Janine 'Smurf' Cody\",\n",
       "  0,\n",
       "  1),\n",
       " ('Actor -- Leading Role', 'Javier Bardem', 'Biutiful', 'Uxbal', 0, 1),\n",
       " ('Actor -- Leading Role',\n",
       "  'Jeff Bridges',\n",
       "  'True Grit',\n",
       "  'Rooster Cogburn',\n",
       "  0,\n",
       "  1),\n",
       " ('Actor -- Leading Role',\n",
       "  'Jesse Eisenberg',\n",
       "  'The Social Network',\n",
       "  'Mark Zuckerberg',\n",
       "  0,\n",
       "  1),\n",
       " ('Actor -- Leading Role',\n",
       "  'Colin Firth',\n",
       "  \"The King's Speech\",\n",
       "  'King George VI',\n",
       "  1,\n",
       "  1),\n",
       " ('Actor -- Leading Role', 'James Franco', '127 Hours', 'Aron Ralston', 0, 1),\n",
       " ('Actor -- Supporting Role',\n",
       "  'Christian Bale',\n",
       "  'The Fighter',\n",
       "  'Dicky Eklund',\n",
       "  1,\n",
       "  1),\n",
       " ('Actor -- Supporting Role',\n",
       "  'John Hawkes',\n",
       "  \"Winter's Bone\",\n",
       "  'Teardrop',\n",
       "  0,\n",
       "  1),\n",
       " ('Actor -- Supporting Role',\n",
       "  'Jeremy Renner',\n",
       "  'The Town',\n",
       "  'James Coughlin',\n",
       "  0,\n",
       "  1),\n",
       " ('Actor -- Supporting Role',\n",
       "  'Mark Ruffalo',\n",
       "  'The Kids Are All Right',\n",
       "  'Paul',\n",
       "  0,\n",
       "  1),\n",
       " ('Actor -- Supporting Role',\n",
       "  'Geoffrey Rush',\n",
       "  \"The King's Speech\",\n",
       "  'Lionel Logue',\n",
       "  0,\n",
       "  1),\n",
       " ('Actress -- Leading Role',\n",
       "  'Annette Bening',\n",
       "  'The Kids Are All Right',\n",
       "  'Nic',\n",
       "  0,\n",
       "  1),\n",
       " ('Actress -- Leading Role', 'Nicole Kidman', 'Rabbit Hole', 'Becca', 0, 1),\n",
       " ('Actress -- Leading Role',\n",
       "  'Jennifer Lawrence',\n",
       "  \"Winter's Bone\",\n",
       "  'Ree',\n",
       "  0,\n",
       "  1),\n",
       " ('Actress -- Leading Role',\n",
       "  'Natalie Portman',\n",
       "  'Black Swan',\n",
       "  'Nina Sayers/The Swan Queen',\n",
       "  1,\n",
       "  1),\n",
       " ('Actress -- Leading Role',\n",
       "  'Michelle Williams',\n",
       "  'Blue Valentine',\n",
       "  'Cindy',\n",
       "  0,\n",
       "  1),\n",
       " ('Actress -- Supporting Role',\n",
       "  'Amy Adams',\n",
       "  'The Fighter',\n",
       "  'Charlene Fleming',\n",
       "  0,\n",
       "  1),\n",
       " ('Actress -- Supporting Role',\n",
       "  'Helena Bonham Carter',\n",
       "  \"The King's Speech\",\n",
       "  'Queen Elizabeth',\n",
       "  0,\n",
       "  1),\n",
       " ('Actress -- Supporting Role',\n",
       "  'Melissa Leo',\n",
       "  'The Fighter',\n",
       "  'Alice Ward',\n",
       "  1,\n",
       "  1),\n",
       " ('Actress -- Supporting Role',\n",
       "  'Hailee Steinfeld',\n",
       "  'True Grit',\n",
       "  'Mattie Ross',\n",
       "  0,\n",
       "  1),\n",
       " ('Actress -- Supporting Role',\n",
       "  'Jacki Weaver',\n",
       "  'Animal Kingdom',\n",
       "  \"Janine 'Smurf' Cody\",\n",
       "  0,\n",
       "  1)]"
      ]
     },
     "execution_count": 58,
     "metadata": {},
     "output_type": "execute_result"
    }
   ],
   "source": [
    "joined_nominations"
   ]
  },
  {
   "cell_type": "code",
   "execution_count": 62,
   "metadata": {},
   "outputs": [],
   "source": [
    "insert_nominations_two ='insert into nominations_two values(null,?,?,?,?,?,?);'"
   ]
  },
  {
   "cell_type": "code",
   "execution_count": 63,
   "metadata": {},
   "outputs": [
    {
     "data": {
      "text/plain": [
       "[]"
      ]
     },
     "execution_count": 63,
     "metadata": {},
     "output_type": "execute_result"
    }
   ],
   "source": [
    "connexion.executemany(insert_nominations_two, joined_nominations).fetchall()"
   ]
  },
  {
   "cell_type": "code",
   "execution_count": 64,
   "metadata": {},
   "outputs": [],
   "source": [
    "connexion.commit()"
   ]
  },
  {
   "cell_type": "code",
   "execution_count": 76,
   "metadata": {},
   "outputs": [
    {
     "ename": "OperationalError",
     "evalue": "database table is locked",
     "output_type": "error",
     "traceback": [
      "\u001b[1;31m---------------------------------------------------------------------------\u001b[0m",
      "\u001b[1;31mOperationalError\u001b[0m                          Traceback (most recent call last)",
      "\u001b[1;32m<ipython-input-76-c47f4014cb33>\u001b[0m in \u001b[0;36m<module>\u001b[1;34m()\u001b[0m\n\u001b[1;32m----> 1\u001b[1;33m \u001b[0mconnexion\u001b[0m\u001b[1;33m.\u001b[0m\u001b[0mexecute\u001b[0m\u001b[1;33m(\u001b[0m\u001b[1;34m'drop table nominations;'\u001b[0m\u001b[1;33m)\u001b[0m\u001b[1;33m.\u001b[0m\u001b[0mfetchall\u001b[0m\u001b[1;33m(\u001b[0m\u001b[1;33m)\u001b[0m\u001b[1;33m\u001b[0m\u001b[0m\n\u001b[0m\u001b[0;32m      2\u001b[0m \u001b[0mconnexion\u001b[0m\u001b[1;33m.\u001b[0m\u001b[0mexecute\u001b[0m\u001b[1;33m(\u001b[0m\u001b[1;34m'alter table nominations_two rename to nominations;'\u001b[0m\u001b[1;33m)\u001b[0m\u001b[1;33m.\u001b[0m\u001b[0mfetchall\u001b[0m\u001b[1;33m(\u001b[0m\u001b[1;33m)\u001b[0m\u001b[1;33m\u001b[0m\u001b[0m\n\u001b[0;32m      3\u001b[0m \u001b[1;33m\u001b[0m\u001b[0m\n\u001b[0;32m      4\u001b[0m \u001b[1;33m\u001b[0m\u001b[0m\n\u001b[0;32m      5\u001b[0m \u001b[1;31m#uniquement avec sqlite qui ne permet pas de supprimer une table la solution copie renomer\u001b[0m\u001b[1;33m\u001b[0m\u001b[1;33m\u001b[0m\u001b[0m\n",
      "\u001b[1;31mOperationalError\u001b[0m: database table is locked"
     ]
    }
   ],
   "source": [
    " connexion.execute('drop table nominations;').fetchall()\n",
    " connexion.execute('alter table nominations_two rename to nominations;').fetchall()\n",
    " \n",
    " \n",
    " #uniquement avec sqlite qui ne permet pas de supprimer une table la solution copie renomer\n",
    " "
   ]
  },
  {
   "cell_type": "code",
   "execution_count": 77,
   "metadata": {},
   "outputs": [
    {
     "data": {
      "text/plain": [
       "[('nominations',),\n",
       " ('ceremonies',),\n",
       " ('nominations_two',),\n",
       " ('movies',),\n",
       " ('actors',)]"
      ]
     },
     "execution_count": 77,
     "metadata": {},
     "output_type": "execute_result"
    }
   ],
   "source": [
    "connexion.execute('select name from sqlite_master where type=\"table\";').fetchall()"
   ]
  },
  {
   "cell_type": "markdown",
   "metadata": {},
   "source": []
  },
  {
   "cell_type": "code",
   "execution_count": 78,
   "metadata": {},
   "outputs": [],
   "source": [
    "movies = 'create table movies(id integer primary key, movie text);'"
   ]
  },
  {
   "cell_type": "code",
   "execution_count": 79,
   "metadata": {},
   "outputs": [],
   "source": [
    "actors ='create table actors(id integer primary key, actor text)';\n",
    "movies_actors = 'create table movies_actors (id integer primary key, movie_id integer references movies(id),actor_id integer references actors(id));'"
   ]
  },
  {
   "cell_type": "code",
   "execution_count": 80,
   "metadata": {},
   "outputs": [
    {
     "ename": "OperationalError",
     "evalue": "table movies already exists",
     "output_type": "error",
     "traceback": [
      "\u001b[1;31m---------------------------------------------------------------------------\u001b[0m",
      "\u001b[1;31mOperationalError\u001b[0m                          Traceback (most recent call last)",
      "\u001b[1;32m<ipython-input-80-ad6fce40c246>\u001b[0m in \u001b[0;36m<module>\u001b[1;34m()\u001b[0m\n\u001b[1;32m----> 1\u001b[1;33m \u001b[0mconnexion\u001b[0m\u001b[1;33m.\u001b[0m\u001b[0mexecute\u001b[0m\u001b[1;33m(\u001b[0m\u001b[0mmovies\u001b[0m\u001b[1;33m)\u001b[0m\u001b[1;33m\u001b[0m\u001b[0m\n\u001b[0m\u001b[0;32m      2\u001b[0m \u001b[0mconnexion\u001b[0m\u001b[1;33m.\u001b[0m\u001b[0mexecute\u001b[0m\u001b[1;33m(\u001b[0m\u001b[0mactors\u001b[0m\u001b[1;33m)\u001b[0m\u001b[1;33m\u001b[0m\u001b[0m\n\u001b[0;32m      3\u001b[0m \u001b[0mconnexion\u001b[0m\u001b[1;33m.\u001b[0m\u001b[0mexecute\u001b[0m\u001b[1;33m(\u001b[0m\u001b[0mmovies_actors\u001b[0m\u001b[1;33m)\u001b[0m\u001b[1;33m\u001b[0m\u001b[0m\n",
      "\u001b[1;31mOperationalError\u001b[0m: table movies already exists"
     ]
    }
   ],
   "source": [
    "connexion.execute(movies)\n",
    "connexion.execute(actors)\n",
    "connexion.execute(movies_actors)"
   ]
  },
  {
   "cell_type": "code",
   "execution_count": 81,
   "metadata": {},
   "outputs": [
    {
     "data": {
      "text/plain": [
       "[('nominations',),\n",
       " ('ceremonies',),\n",
       " ('nominations_two',),\n",
       " ('movies',),\n",
       " ('actors',)]"
      ]
     },
     "execution_count": 81,
     "metadata": {},
     "output_type": "execute_result"
    }
   ],
   "source": [
    "connexion.execute('select name from sqlite_master where type=\"table\"').fetchall()"
   ]
  },
  {
   "cell_type": "code",
   "execution_count": null,
   "metadata": {},
   "outputs": [],
   "source": []
  }
 ],
 "metadata": {
  "kernelspec": {
   "display_name": "Python 3",
   "language": "python",
   "name": "python3"
  },
  "language_info": {
   "codemirror_mode": {
    "name": "ipython",
    "version": 3
   },
   "file_extension": ".py",
   "mimetype": "text/x-python",
   "name": "python",
   "nbconvert_exporter": "python",
   "pygments_lexer": "ipython3",
   "version": "3.6.5"
  }
 },
 "nbformat": 4,
 "nbformat_minor": 2
}
